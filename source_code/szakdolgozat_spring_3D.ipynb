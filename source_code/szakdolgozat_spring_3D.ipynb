{
 "cells": [
  {
   "cell_type": "code",
   "execution_count": 33,
   "id": "726d92c5",
   "metadata": {},
   "outputs": [],
   "source": [
    "import math\n",
    "from mpl_toolkits.mplot3d import Axes3D\n",
    "from mpl_toolkits.mplot3d.art3d import Poly3DCollection\n",
    "import matplotlib.pyplot as plt\n",
    "import random\n",
    "\n",
    "plt.rcParams['figure.figsize'] = [10, 5]"
   ]
  },
  {
   "cell_type": "code",
   "execution_count": 34,
   "id": "33ce90d4",
   "metadata": {},
   "outputs": [],
   "source": [
    "class spring:\n",
    "    def __init__(self, a, b, length):\n",
    "        self.a = a #1st end point\n",
    "        self.b = b #2nd end point\n",
    "        self.length = length\n",
    "    \n",
    "    def __str__(self):\n",
    "        return \"({}, {}, {:.3})\".format(self.a, self.b, self.length)"
   ]
  },
  {
   "cell_type": "code",
   "execution_count": 35,
   "id": "c53e478c",
   "metadata": {},
   "outputs": [],
   "source": [
    "class vector:\n",
    "    def __init__(self, x = 0, y = 0, z = 0):\n",
    "        self.x = x\n",
    "        self.y = y\n",
    "        self.z = z\n",
    "        \n",
    "    def __str__(self):\n",
    "        return \"({:.3f}, {:.3f}, {:.3f})\".format(self.x, self.y, self.z)\n",
    "    \n",
    "    def multiply(self, c):\n",
    "        return vector(self.x * c, self.y * c, self.z * c)\n",
    "    \n",
    "    def divide(self, c):\n",
    "        return vector(self.x / c, self.y / c, self.z * c)\n",
    "    \n",
    "    def add(self, v):\n",
    "        return vector(self.x + v.x, self.y + v.y, self.z + v.z)\n",
    "    \n",
    "    def sub(self, v):\n",
    "        return vector(self.x - v.x, self.y- v.y, self.z - v.z)\n",
    "    \n",
    "    def length(self):\n",
    "        return math.sqrt(self.x ** 2 + self.y ** 2 + self.z ** 2)\n",
    "    \n",
    "    def distance(self, v):\n",
    "        return math.sqrt((self.x - v.x) ** 2 + (self.y - v.y) ** 2 + (self.z - v.z) ** 2)"
   ]
  },
  {
   "cell_type": "code",
   "execution_count": 61,
   "id": "b7021665",
   "metadata": {},
   "outputs": [],
   "source": [
    "class polygon:\n",
    "    def __init__(self, points, force = vector()):\n",
    "        self.points = points\n",
    "        self.n = len(points)\n",
    "        self.forces = []\n",
    "        self.springs = []\n",
    "        for i in range(self.n):\n",
    "            self.forces.append(force)\n",
    "            for j in range(i + 1, self.n):\n",
    "                self.springs.append(spring(i, j, self.points[i].distance(self.points[j])))\n",
    "                \n",
    "    def __str__(self):\n",
    "        point = \"{}\".format(self.points[0])\n",
    "        force = \"{}\".format(self.forces[0])\n",
    "        spring = \"{}\".format(self.springs[0])\n",
    "        for i in range(1, self.n):\n",
    "            point += \", {}\".format(self.points[i])\n",
    "            force += \", {}\".format(self.forces[i])\n",
    "        for i in range(1, len(self.springs)):\n",
    "            spring += \", {}\".format(self.springs[i])\n",
    "        return \"Points: {}\\nForces: {}\\nSprings: {}\".format(point, force, spring)\n",
    "    \n",
    "    def set_points(self, points):\n",
    "        self.points = points\n",
    "        \n",
    "    def set_forces(self, forces):\n",
    "        self.forces = forces\n",
    "        \n",
    "    def update(self):\n",
    "        p, f = [], []\n",
    "        p += self.points\n",
    "        f += self.forces\n",
    "        #gravity\n",
    "        for i in range(self.n):\n",
    "            f[i].z -= 0.05\n",
    "            \n",
    "        #springs\n",
    "        for s in self.springs:\n",
    "            dist = p[s.a].distance(p[s.b])\n",
    "            if dist > 0:\n",
    "                force = p[s.b].sub(p[s.a])\n",
    "                force = force.divide(force.length())\n",
    "            else:\n",
    "                force = vector(random.random(), random.random(), random.random())\n",
    "            diff = dist - s.length\n",
    "            #diff = 0.001 * diff ** 4\n",
    "            #diff = 0.01 * diff ** 2\n",
    "            force = force.multiply(diff / 100000)\n",
    "            force = force.multiply(diff)\n",
    "            if dist < s.length:\n",
    "                f[s.a] = f[s.a].sub(force)\n",
    "                f[s.b] = f[s.b].add(force)\n",
    "            else:\n",
    "                f[s.a] = f[s.a].add(force)\n",
    "                f[s.b] = f[s.b].sub(force)\n",
    "                \n",
    "        #collision\n",
    "        for i in range(self.n):\n",
    "            if p[i].z < 0:\n",
    "                p[i].z = 0.000001\n",
    "                f[i] = f[i].multiply(0.9)\n",
    "                f[i].z *= -1\n",
    "                \n",
    "        #force degradation\n",
    "        for i in range(self.n):\n",
    "            f[i] = f[i].multiply(0.99)\n",
    "            \n",
    "        #move points\n",
    "        for i in range(self.n):\n",
    "            p[i] = p[i].add(f[i])\n",
    "            \n",
    "        #give back values\n",
    "        self.set_points(p)\n",
    "        self.set_forces(f)\n",
    "       \n",
    "    #ne tedd, nem éri meg\n",
    "    def display(self):\n",
    "        fig = plt.figure()\n",
    "        ax = Axes3D(fig, auto_add_to_figure=False)\n",
    "        fig.add_axes(ax)\n",
    "        x, y, z = [], [], []\n",
    "        for i in range(self.n):\n",
    "            x.append(self.points[i].x)\n",
    "            y.append(self.points[i].y)\n",
    "            z.append(self.points[i].z)\n",
    "        verts = [list(zip(x,y,z))]\n",
    "        ax.add_collection3d(Poly3DCollection(verts))\n",
    "        ax.set_xlabel('X axis')\n",
    "        ax.set_ylabel('Y axis')\n",
    "        ax.set_zlabel('Z axis')\n",
    "        ax.set_xlim3d(0, 200)\n",
    "        ax.set_ylim3d(0, 800)\n",
    "        ax.set_zlim3d(0, 200)\n",
    "        plt.show()\n",
    "        \n",
    "    #x tengelyre vetítve\n",
    "    def save_display_onX(self, num):\n",
    "        y, z = [], []\n",
    "        for i in range(self.n):\n",
    "            if abs(self.points[i].x) < 0.1:\n",
    "                y.append(self.points[i].y)\n",
    "                z.append(self.points[i].z)\n",
    "        plt.fill(y, z)\n",
    "        #plt.axis('equal')\n",
    "        plt.xlim(0, 800)\n",
    "        plt.ylim(0, 400)\n",
    "        plt.savefig(\"img_seq\\{}.png\".format(num))\n",
    "        plt.clf()\n",
    "        \n",
    "    #x tengelyre vetítve\n",
    "    def display_onX(self):\n",
    "        y, z = [], []\n",
    "        for i in range(self.n):\n",
    "            if abs(self.points[i].x) < 0.1:\n",
    "                y.append(self.points[i].y)\n",
    "                z.append(self.points[i].z)\n",
    "        plt.fill(y, z)\n",
    "        #plt.axis('equal')\n",
    "        plt.xlim(0, 800)\n",
    "        plt.ylim(0, 400)\n",
    "        plt.show()\n",
    "        plt.clf()"
   ]
  },
  {
   "cell_type": "code",
   "execution_count": 62,
   "id": "de99fc5c",
   "metadata": {},
   "outputs": [
    {
     "data": {
      "image/png": "[encoded data removed]",
      "text/plain": [
       "<Figure size 720x360 with 1 Axes>"
      ]
     },
     "metadata": {
      "needs_background": "light"
     },
     "output_type": "display_data"
    },
    {
     "data": {
      "text/plain": [
       "<Figure size 720x360 with 0 Axes>"
      ]
     },
     "metadata": {},
     "output_type": "display_data"
    }
   ],
   "source": [
    "#test object\n",
    "p = polygon(points = [vector( 0,  0, 100),\n",
    "                      vector( 0,  0, 150),\n",
    "                      vector(50,  0, 150),\n",
    "                      vector(50, 50, 150),\n",
    "                      vector( 0, 50, 150),\n",
    "                      vector( 0, 50, 100),\n",
    "                      vector(50, 50, 100),\n",
    "                      vector(50,  0, 100)],\n",
    "            force = vector(0, 5, 0))\n",
    "p.display_onX()"
   ]
  },
  {
   "cell_type": "code",
   "execution_count": 63,
   "id": "fcb54ae9",
   "metadata": {},
   "outputs": [
    {
     "data": {
      "text/plain": [
       "<Figure size 720x360 with 0 Axes>"
      ]
     },
     "metadata": {},
     "output_type": "display_data"
    }
   ],
   "source": [
    "p.save_display_onX(0)\n",
    "for frame in range(1, 150):\n",
    "    p.update()\n",
    "    p.save_display_onX(frame)"
   ]
  },
  {
   "cell_type": "code",
   "execution_count": null,
   "id": "29bee742",
   "metadata": {},
   "outputs": [],
   "source": [
    "for i in range(60):\n",
    "    p.update()"
   ]
  },
  {
   "cell_type": "code",
   "execution_count": null,
   "id": "8e0fe8b1",
   "metadata": {
    "scrolled": false
   },
   "outputs": [],
   "source": [
    "p.update()\n",
    "#print(p)\n",
    "p.display()"
   ]
  },
  {
   "cell_type": "code",
   "execution_count": 48,
   "id": "2079356a",
   "metadata": {},
   "outputs": [
    {
     "name": "stdout",
     "output_type": "stream",
     "text": [
      "19\n"
     ]
    }
   ],
   "source": [
    "print(frame)"
   ]
  }
 ],
 "metadata": {
  "kernelspec": {
   "display_name": "Python 3",
   "language": "python",
   "name": "python3"
  },
  "language_info": {
   "codemirror_mode": {
    "name": "ipython",
    "version": 3
   },
   "file_extension": ".py",
   "mimetype": "text/x-python",
   "name": "python",
   "nbconvert_exporter": "python",
   "pygments_lexer": "ipython3",
   "version": "3.9.4"
  }
 },
 "nbformat": 4,
 "nbformat_minor": 5
}
