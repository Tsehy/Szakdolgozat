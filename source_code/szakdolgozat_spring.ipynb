{
 "cells": [
  {
   "cell_type": "code",
   "execution_count": 206,
   "id": "15b3811f",
   "metadata": {},
   "outputs": [],
   "source": [
    "import math\n",
    "import matplotlib.pyplot as plt\n",
    "import random\n",
    "plt.rcParams['figure.figsize'] = [10, 5]"
   ]
  },
  {
   "cell_type": "code",
   "execution_count": 11,
   "id": "1481f6a3",
   "metadata": {},
   "outputs": [],
   "source": [
    "class spring2D:\n",
    "    def __init__(self, a, b, length):\n",
    "        self.a = a #1st end point\n",
    "        self.b = b #2nd end point\n",
    "        self.length = length\n",
    "    \n",
    "    def __str__(self):\n",
    "        return \"({}, {}, {:.3})\".format(self.a, self.b, self.length)"
   ]
  },
  {
   "cell_type": "code",
   "execution_count": 30,
   "id": "4ea22f8e",
   "metadata": {},
   "outputs": [],
   "source": [
    "class vector2D:\n",
    "    def __init__(self, x = 0, y = 0):\n",
    "        self.x = x\n",
    "        self.y = y\n",
    "        \n",
    "    def __str__(self):\n",
    "        return \"({:.3f}, {:.3f})\".format(self.x, self.y)\n",
    "    \n",
    "    def multiply(self, c):\n",
    "        return vector2D(self.x * c, self.y * c)\n",
    "    \n",
    "    def divide(self, c):\n",
    "        return vector2D(self.x / c, self.y / c)\n",
    "    \n",
    "    def add(self, v):\n",
    "        return vector2D(self.x + v.x, self.y + v.y)\n",
    "    \n",
    "    def sub(self, v):\n",
    "        return vector2D(self.x - v.x, self.y- v.y)\n",
    "    \n",
    "    def lenght(self):\n",
    "        return math.sqrt(self.x ** 2 + self.y ** 2)\n",
    "    \n",
    "    def distance(self, v):\n",
    "        return math.sqrt((self.x - v.x) ** 2 + (self.y - v.y) ** 2)"
   ]
  },
  {
   "cell_type": "code",
   "execution_count": 212,
   "id": "cd7efa37",
   "metadata": {},
   "outputs": [],
   "source": [
    "class polygon2D:\n",
    "    def __init__(self, points, force = vector2D()):\n",
    "        self.points = points\n",
    "        self.n = len(points)\n",
    "        self.forces = []\n",
    "        self.springs = []\n",
    "        for i in range(self.n):\n",
    "            self.forces.append(vector2D(force.x, force.y))\n",
    "            for j in range(i + 1, self.n):\n",
    "                self.springs.append(spring2D(i, j, self.points[i].distance(self.points[j])))\n",
    "                \n",
    "    def set_points(self, points):\n",
    "        self.points = points\n",
    "        \n",
    "    def set_forces(self, forces):\n",
    "        self.forces = forces\n",
    "        \n",
    "    def __str__(self):\n",
    "        point = \"{}\".format(self.points[0])\n",
    "        force = \"{}\".format(self.forces[0])\n",
    "        spring = \"{}\".format(self.springs[0])\n",
    "        for i in range(1, self.n):\n",
    "            point += \", {}\".format(self.points[i])\n",
    "            force += \", {}\".format(self.forces[i])\n",
    "        for i in range(1, len(self.springs)):\n",
    "            spring += \", {}\".format(self.springs[i])\n",
    "        return \"Points: {}\\nForces: {}\\nSprings: {}\".format(point, force, spring)\n",
    "\n",
    "    def display(self):\n",
    "        x, y = [], []\n",
    "        for i in range(self.n):\n",
    "            x.append(self.points[i].x)\n",
    "            y.append(self.points[i].y)\n",
    "        plt.fill(x, y)\n",
    "        #plt.axis('equal')\n",
    "        plt.xlim(0, 800)\n",
    "        plt.ylim(0, 400)\n",
    "        plt.show()\n",
    "        plt.clf()\n",
    "\n",
    "    def save_display(self, num):\n",
    "        x, y = [], []\n",
    "        for i in range(self.n):\n",
    "            x.append(self.points[i].x)\n",
    "            y.append(self.points[i].y)\n",
    "        plt.fill(x, y)\n",
    "        #plt.axis('equal')\n",
    "        plt.xlim(0, 800)\n",
    "        plt.ylim(0, 400)\n",
    "        plt.savefig(\"img_seq\\{}.png\".format(num))\n",
    "        plt.clf()\n",
    "        \n",
    "    #apply forces and move\n",
    "    def update(self):\n",
    "        p, f = [], []\n",
    "        p += self.points\n",
    "        f += self.forces\n",
    "        #gravity\n",
    "        for i in range(self.n):\n",
    "            f[i].y -= 0.05\n",
    "            \n",
    "        #springs\n",
    "        for s in self.springs:\n",
    "            dist = p[s.a].distance(p[s.b])\n",
    "            if dist > 0:\n",
    "                force = p[s.b].sub(p[s.a])\n",
    "                force = force.divide(dist)\n",
    "            else:\n",
    "                force = vector2D(random.random(), random.random())\n",
    "            diff = dist - s.length\n",
    "            diff = 0.001 * diff ** 4\n",
    "            #diff = 0.01 * diff ** 2\n",
    "            force = force.multiply(diff)\n",
    "            if dist < s.length:\n",
    "                f[s.a] = f[s.a].sub(force)\n",
    "                f[s.b] = f[s.b].add(force)\n",
    "            else:\n",
    "                f[s.a] = f[s.a].add(force)\n",
    "                f[s.b] = f[s.b].sub(force)\n",
    "                \n",
    "        #collision\n",
    "        for i in range(self.n):\n",
    "            if p[i].y < 0:\n",
    "                p[i].y = 0.000001\n",
    "                f[i].x *= 0.9\n",
    "                f[i].y *= -0.9\n",
    "                \n",
    "        #force degradation\n",
    "        for i in range(self.n):\n",
    "            f[i] = f[i].multiply(0.99)\n",
    "            \n",
    "        #move points\n",
    "        for i in range(self.n):\n",
    "            p[i] = p[i].add(f[i])\n",
    "            \n",
    "        #give back values\n",
    "        self.set_points(p)\n",
    "        self.set_forces(f)"
   ]
  },
  {
   "cell_type": "code",
   "execution_count": 215,
   "id": "bc34e838",
   "metadata": {},
   "outputs": [
    {
     "data": {
      "image/png": "[encoded data removed]",
      "text/plain": [
       "<Figure size 720x360 with 1 Axes>"
      ]
     },
     "metadata": {
      "needs_background": "light"
     },
     "output_type": "display_data"
    },
    {
     "data": {
      "text/plain": [
       "<Figure size 720x360 with 0 Axes>"
      ]
     },
     "metadata": {},
     "output_type": "display_data"
    }
   ],
   "source": [
    "p = polygon2D(points = [vector2D( 0, 100),\n",
    "                        vector2D(50, 100),\n",
    "                        vector2D(50, 150),\n",
    "                        vector2D( 0, 150)],\n",
    "              force = vector2D(x = 5))\n",
    "p.display()"
   ]
  },
  {
   "cell_type": "code",
   "execution_count": 216,
   "id": "8b381487",
   "metadata": {},
   "outputs": [
    {
     "data": {
      "text/plain": [
       "<Figure size 720x360 with 0 Axes>"
      ]
     },
     "metadata": {},
     "output_type": "display_data"
    }
   ],
   "source": [
    "p.save_display(0)\n",
    "for frame in range(1, 300):\n",
    "    p.update()\n",
    "    p.save_display(frame)"
   ]
  },
  {
   "cell_type": "code",
   "execution_count": 148,
   "id": "e34855bb",
   "metadata": {},
   "outputs": [],
   "source": [
    "for i in range(70):\n",
    "    p.update()"
   ]
  },
  {
   "cell_type": "code",
   "execution_count": 196,
   "id": "e7e7f7e9",
   "metadata": {},
   "outputs": [
    {
     "name": "stdout",
     "output_type": "stream",
     "text": [
      "Points: (330.791, 56.908), (381.298, 53.028), (385.269, 99.673), (338.315, 107.177)\n",
      "Forces: (1.406, -0.075), (1.626, 0.150), (1.196, -0.492), (1.346, 0.656)\n",
      "Springs: (0, 1, 50.0), (0, 2, 70.7), (0, 3, 50.0), (1, 2, 50.0), (1, 3, 70.7), (2, 3, 50.0)\n"
     ]
    },
    {
     "data": {
      "image/png": "[encoded data removed]",
      "text/plain": [
       "<Figure size 432x288 with 1 Axes>"
      ]
     },
     "metadata": {
      "needs_background": "light"
     },
     "output_type": "display_data"
    },
    {
     "name": "stdout",
     "output_type": "stream",
     "text": [
      "Points: (332.179, 56.781), (382.902, 53.021), (386.499, 99.235), (339.608, 107.787)\n",
      "Forces: (1.389, -0.126), (1.604, -0.007), (1.231, -0.438), (1.294, 0.610)\n",
      "Springs: (0, 1, 50.0), (0, 2, 70.7), (0, 3, 50.0), (1, 2, 50.0), (1, 3, 70.7), (2, 3, 50.0)\n"
     ]
    },
    {
     "data": {
      "text/plain": [
       "<Figure size 432x288 with 0 Axes>"
      ]
     },
     "metadata": {},
     "output_type": "display_data"
    }
   ],
   "source": [
    "print(p)\n",
    "p.update()\n",
    "p.display()\n",
    "print(p)"
   ]
  }
 ],
 "metadata": {
  "kernelspec": {
   "display_name": "Python 3",
   "language": "python",
   "name": "python3"
  },
  "language_info": {
   "codemirror_mode": {
    "name": "ipython",
    "version": 3
   },
   "file_extension": ".py",
   "mimetype": "text/x-python",
   "name": "python",
   "nbconvert_exporter": "python",
   "pygments_lexer": "ipython3",
   "version": "3.9.4"
  }
 },
 "nbformat": 4,
 "nbformat_minor": 5
}
